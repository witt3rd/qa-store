{
 "cells": [
  {
   "cell_type": "code",
   "execution_count": null,
   "metadata": {},
   "outputs": [],
   "source": [
    "from qa_store import QuestionAnswerKB\n",
    "\n",
    "kb = QuestionAnswerKB()\n",
    "\n",
    "text = \"\"\"\n",
    "Machine learning is a subset of artificial intelligence that focuses on\n",
    "the development of algorithms and statistical models that enable\n",
    "computer systems to improve their performance on a specific task through\n",
    "experience.\n",
    "\"\"\"\n",
    "\n",
    "qa_pairs = kb.generate_qa_pairs(text)\n",
    "for pair in qa_pairs:\n",
    "    kb.add_qa(pair[\"q\"], pair[\"a\"])"
   ]
  }
 ],
 "metadata": {
  "kernelspec": {
   "display_name": ".venv",
   "language": "python",
   "name": "python3"
  },
  "language_info": {
   "codemirror_mode": {
    "name": "ipython",
    "version": 3
   },
   "file_extension": ".py",
   "mimetype": "text/x-python",
   "name": "python",
   "nbconvert_exporter": "python",
   "pygments_lexer": "ipython3",
   "version": "3.11.9"
  }
 },
 "nbformat": 4,
 "nbformat_minor": 2
}
